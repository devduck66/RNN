{
 "cells": [
  {
   "cell_type": "code",
   "execution_count": 69,
   "metadata": {},
   "outputs": [],
   "source": [
    "import pandas as pd\n",
    "import numpy as np\n",
    "import matplotlib.pyplot as plt\n",
    "import seaborn as sns\n",
    "import missingno as msno"
   ]
  },
  {
   "cell_type": "markdown",
   "metadata": {},
   "source": [
    "### Loading data"
   ]
  },
  {
   "cell_type": "code",
   "execution_count": null,
   "metadata": {},
   "outputs": [],
   "source": [
    "df = pd.read_csv(\"data/housing.csv\")"
   ]
  },
  {
   "cell_type": "markdown",
   "metadata": {},
   "source": [
    "Visualising the head (top 5)"
   ]
  },
  {
   "cell_type": "code",
   "execution_count": null,
   "metadata": {},
   "outputs": [],
   "source": [
    "df.head()"
   ]
  },
  {
   "cell_type": "markdown",
   "metadata": {},
   "source": [
    "Show samples (and possible misses)"
   ]
  },
  {
   "cell_type": "code",
   "execution_count": 101,
   "metadata": {},
   "outputs": [
    {
     "data": {
      "text/plain": [
       "longitude             20433\n",
       "latitude              20433\n",
       "housing_median_age    20433\n",
       "total_rooms           19143\n",
       "total_bedrooms        19162\n",
       "population            19243\n",
       "households            19223\n",
       "median_income         19763\n",
       "median_house_value    19369\n",
       "ocean_proximity       20433\n",
       "dtype: int64"
      ]
     },
     "execution_count": 101,
     "metadata": {},
     "output_type": "execute_result"
    }
   ],
   "source": [
    "df.count()"
   ]
  },
  {
   "cell_type": "markdown",
   "metadata": {},
   "source": [
    "What them features do?"
   ]
  },
  {
   "cell_type": "markdown",
   "metadata": {},
   "source": [
    "1. longitude: A measure of how far west a house is; a higher value is farther west\n",
    "2. latitude: A measure of how far north a house is; a higher value is farther north\n",
    "3. housingMedianAge: Median age of a house within a block; a lower number is a newer building\n",
    "4. totalRooms: Total number of rooms within a block\n",
    "5. totalBedrooms: Total number of bedrooms within a block\n",
    "6. population: Total number of people residing within a block\n",
    "7. households: Total number of households, a group of people residing within a home unit, for a block\n",
    "8. medianIncome: Median income for households within a block of houses (measured in tens of thousands of US Dollars)\n",
    "9. medianHouseValue: Median house value for households within a block (measured in US Dollars)\n",
    "10. oceanProximity: Location of the house w.r.t ocean/sea"
   ]
  },
  {
   "cell_type": "code",
   "execution_count": null,
   "metadata": {},
   "outputs": [],
   "source": [
    "nRow, nCol = df.shape\n",
    "print(f'There are {nRow} rows and {nCol} columns')"
   ]
  },
  {
   "cell_type": "markdown",
   "metadata": {},
   "source": [
    "### Plotting Graph Functions (self made)"
   ]
  },
  {
   "cell_type": "code",
   "execution_count": null,
   "metadata": {},
   "outputs": [],
   "source": [
    "def plotPerColumnDistribution(df, nGraphShown, nGraphPerRow):\n",
    "    # Select columns to plot\n",
    "    columns = df.select_dtypes(include=[np.number]).columns[:nGraphShown]\n",
    "    \n",
    "    # Calculate number of rows needed\n",
    "    nGraphRow = (len(columns) - 1) // nGraphPerRow + 1\n",
    "    \n",
    "    # Create subplots with larger figure size\n",
    "    fig, axes = plt.subplots(nGraphRow, nGraphPerRow, figsize=(7*nGraphPerRow, 6*nGraphRow))\n",
    "    axes = axes.flatten() if nGraphRow > 1 or nGraphPerRow > 1 else [axes]\n",
    "    \n",
    "    for i, col in enumerate(columns):\n",
    "        sns.histplot(df[col], kde=True, ax=axes[i])\n",
    "        axes[i].set_title(f'{col} Distribution', fontsize=12)\n",
    "        axes[i].set_xlabel(col, fontsize=10)\n",
    "        axes[i].set_ylabel('Frequency', fontsize=10)\n",
    "        axes[i].tick_params(labelsize=8)\n",
    "    \n",
    "    # Remove any unused subplots\n",
    "    for j in range(i+1, len(axes)):\n",
    "        fig.delaxes(axes[j])\n",
    "    \n",
    "    plt.tight_layout()\n",
    "    plt.show()\n",
    "\n",
    "def plotCorrelationMatrix(df):\n",
    "    # Select numerical columns\n",
    "    numeric_columns = df.select_dtypes(include=[np.number]).columns.tolist()\n",
    "    \n",
    "    if len(numeric_columns) < 2:\n",
    "        print(\"Error: The DataFrame must have at least two numeric columns to create a correlation matrix.\")\n",
    "        return\n",
    "    \n",
    "    # Create a new dataframe with numeric columns\n",
    "    df_numeric = df[numeric_columns]\n",
    "    \n",
    "    # Handle missing values\n",
    "    df_numeric = df_numeric.dropna()\n",
    "    \n",
    "    # Calculate the correlation matrix\n",
    "    corr_matrix = df_numeric.corr()\n",
    "    \n",
    "    # Mask the upper triangle of the correlation matrix\n",
    "    mask = np.triu(np.ones_like(corr_matrix, dtype=bool))\n",
    "    \n",
    "    # Create a larger figure for better visibility\n",
    "    plt.figure(figsize=(12, 10))\n",
    "    \n",
    "    # Create a heatmap of the correlation matrix with the mask\n",
    "    sns.heatmap(corr_matrix, mask=mask, annot=True, cmap='coolwarm', vmin=-1, vmax=1, center=0)\n",
    "    \n",
    "    plt.title('Correlation Matrix', fontsize=16)\n",
    "    plt.tight_layout()\n",
    "    plt.show()\n",
    "    \n",
    "    # Print information about non-numeric columns\n",
    "    non_numeric_columns = [col for col in df.columns if col not in numeric_columns]\n",
    "    if non_numeric_columns:\n",
    "        print(\"\\nNon-numeric columns excluded from the correlation matrix:\")\n",
    "        for col in non_numeric_columns:\n",
    "            print(f\"- {col} (type: {df[col].dtype})\")\n",
    "\n",
    "def plotScatterMatrix(df, plotSize, textSize):\n",
    "    # Keep only numerical columns\n",
    "    df = df.select_dtypes(include=[np.number])\n",
    "    \n",
    "    # Remove columns with NaN values\n",
    "    df = df.dropna(axis=1)\n",
    "    \n",
    "    # Keep columns where there are more than 1 unique values\n",
    "    df = df[[col for col in df if df[col].nunique() > 1]]\n",
    "    \n",
    "    # Limit to 10 columns\n",
    "    columnNames = list(df.columns)\n",
    "    if len(columnNames) > 10:\n",
    "        columnNames = columnNames[:10]\n",
    "    df = df[columnNames]\n",
    "    \n",
    "    # Create the scatter matrix\n",
    "    fig, ax = plt.subplots(nrows=len(columnNames), ncols=len(columnNames), figsize=(plotSize, plotSize))\n",
    "    pd.plotting.scatter_matrix(df, alpha=0.75, diagonal='kde', ax=ax)\n",
    "    \n",
    "    # Add correlation coefficients\n",
    "    corrs = df.corr().values\n",
    "    for i, j in zip(*np.triu_indices_from(ax, k=1)):\n",
    "        ax[i, j].annotate(f'Corr. coef = {corrs[i, j]:.3f}', (0.8, 0.2), \n",
    "                          xycoords='axes fraction', ha='center', va='center', \n",
    "                          size=textSize)\n",
    "    \n",
    "    plt.suptitle('Scatter and Density Plot', fontsize=textSize*1.5)\n",
    "    plt.tight_layout()\n",
    "    plt.show()"
   ]
  },
  {
   "cell_type": "code",
   "execution_count": null,
   "metadata": {},
   "outputs": [],
   "source": [
    "plotPerColumnDistribution(df, 10, 5)"
   ]
  },
  {
   "cell_type": "code",
   "execution_count": null,
   "metadata": {},
   "outputs": [],
   "source": [
    "plotCorrelationMatrix(df)"
   ]
  },
  {
   "cell_type": "code",
   "execution_count": null,
   "metadata": {},
   "outputs": [],
   "source": [
    "plotScatterMatrix(df, 20, 10)"
   ]
  },
  {
   "cell_type": "markdown",
   "metadata": {},
   "source": [
    "<center><font size=11> CH2. Finding (& visualising) missings </font> </center>\n"
   ]
  },
  {
   "cell_type": "markdown",
   "metadata": {},
   "source": [
    "### 2.1 Numerical Summary"
   ]
  },
  {
   "cell_type": "code",
   "execution_count": 102,
   "metadata": {},
   "outputs": [
    {
     "data": {
      "text/plain": [
       "longitude                0\n",
       "latitude                 0\n",
       "housing_median_age       0\n",
       "total_rooms           1290\n",
       "total_bedrooms        1271\n",
       "population            1190\n",
       "households            1210\n",
       "median_income          670\n",
       "median_house_value    1064\n",
       "ocean_proximity          0\n",
       "dtype: int64"
      ]
     },
     "execution_count": 102,
     "metadata": {},
     "output_type": "execute_result"
    }
   ],
   "source": [
    "df.isnull().sum()"
   ]
  },
  {
   "cell_type": "code",
   "execution_count": 103,
   "metadata": {},
   "outputs": [
    {
     "name": "stdout",
     "output_type": "stream",
     "text": [
      "total_rooms : 1290 (6.313%)\n",
      "total_bedrooms : 1271 (6.22%)\n",
      "population : 1190 (5.824%)\n",
      "households : 1210 (5.922%)\n",
      "median_income : 670 (3.279%)\n",
      "median_house_value : 1064 (5.207%)\n"
     ]
    },
    {
     "data": {
      "text/plain": [
       "{'total_rooms': 6.313316693583908,\n",
       " 'total_bedrooms': 6.22032985856213,\n",
       " 'population': 5.823912298732443,\n",
       " 'households': 5.921793177702736,\n",
       " 'median_income': 3.2790094455048204,\n",
       " 'median_house_value': 5.207262761219596}"
      ]
     },
     "execution_count": 103,
     "metadata": {},
     "output_type": "execute_result"
    }
   ],
   "source": [
    "def get_numerical_summary(df):\n",
    "    total = df.shape[0]\n",
    "    missing_columns = [col for col in df.columns if df[col].isnull().sum() > 0]\n",
    "    missing_percent = {}\n",
    "    for col in missing_columns:\n",
    "        null_count = df[col].isnull().sum()\n",
    "        per = (null_count/total) * 100\n",
    "        missing_percent[col] = per\n",
    "        print(\"{} : {} ({}%)\".format(col, null_count, round(per, 3)))\n",
    "    return missing_percent\n",
    "get_numerical_summary(df)"
   ]
  },
  {
   "cell_type": "markdown",
   "metadata": {},
   "source": [
    "### 2.2 Matrix"
   ]
  },
  {
   "cell_type": "code",
   "execution_count": null,
   "metadata": {},
   "outputs": [],
   "source": [
    "msno.matrix(df)\n",
    "plt.figure(figsize = (15,9))\n",
    "plt.show()"
   ]
  },
  {
   "cell_type": "markdown",
   "metadata": {},
   "source": [
    "### 2.3 Nullify Correlation\n",
    "vergelijkt alleen columns met missing data (useful bij >1 columns w NAN/Missing)"
   ]
  },
  {
   "cell_type": "code",
   "execution_count": 104,
   "metadata": {},
   "outputs": [
    {
     "data": {
      "text/plain": [
       "<Axes: >"
      ]
     },
     "execution_count": 104,
     "metadata": {},
     "output_type": "execute_result"
    },
    {
     "data": {
      "image/png": "[encoded data removed]",
      "text/plain": [
       "<Figure size 2000x1200 with 2 Axes>"
      ]
     },
     "metadata": {},
     "output_type": "display_data"
    }
   ],
   "source": [
    "msno.heatmap(df, labels = True)"
   ]
  },
  {
   "cell_type": "markdown",
   "metadata": {},
   "source": [
    "### 2.4 Dendrogram\n",
    "WIP"
   ]
  },
  {
   "cell_type": "markdown",
   "metadata": {},
   "source": [
    "<center><font size=11> CH3 Cleaning the data</font> </center>"
   ]
  },
  {
   "cell_type": "markdown",
   "metadata": {},
   "source": [
    "### 3.1 MISSINGS"
   ]
  },
  {
   "cell_type": "markdown",
   "metadata": {},
   "source": [
    "Drop de rows in een specifieke subset (COL) met NA values "
   ]
  },
  {
   "cell_type": "code",
   "execution_count": 116,
   "metadata": {},
   "outputs": [],
   "source": [
    "df = df.dropna(subset=['total_bedrooms'])"
   ]
  },
  {
   "cell_type": "markdown",
   "metadata": {},
   "source": []
  },
  {
   "cell_type": "code",
   "execution_count": 117,
   "metadata": {},
   "outputs": [
    {
     "data": {
      "text/plain": [
       "longitude             17434\n",
       "latitude              17434\n",
       "housing_median_age    17434\n",
       "total_rooms           17434\n",
       "total_bedrooms        17434\n",
       "population            17434\n",
       "households            17434\n",
       "median_income         17434\n",
       "median_house_value    17434\n",
       "ocean_proximity       17434\n",
       "dtype: int64"
      ]
     },
     "execution_count": 117,
     "metadata": {},
     "output_type": "execute_result"
    }
   ],
   "source": [
    "df.count()"
   ]
  },
  {
   "cell_type": "markdown",
   "metadata": {},
   "source": [
    "### 3.2 OUTLIERS"
   ]
  },
  {
   "cell_type": "markdown",
   "metadata": {},
   "source": [
    "<font color=green size=6> Plotting </font>  <font size=6> Boxplots </font>\n",
    "\n",
    "> 1 columns showing incorrect? NAN's.\n"
   ]
  },
  {
   "cell_type": "code",
   "execution_count": null,
   "metadata": {},
   "outputs": [],
   "source": [
    "def plot_numeric_boxplots(df):\n",
    "    \"\"\"\n",
    "    Plot boxplots for all numeric columns in the given DataFrame.\n",
    "\n",
    "    Parameters:\n",
    "    df (pd.DataFrame): The input DataFrame.\n",
    "\n",
    "    Returns:\n",
    "    None\n",
    "    \"\"\"\n",
    "    # Select only numeric columns\n",
    "    df_numeric = df.select_dtypes(include=[np.number])\n",
    "\n",
    "    # Determine the number of numeric columns\n",
    "    num_columns = len(df_numeric.columns)\n",
    "\n",
    "    # Calculate the number of rows needed, 3 columns per row\n",
    "    num_rows = (num_columns + 2) // 3\n",
    "\n",
    "    # Create the subplots dynamically\n",
    "    fig, axes = plt.subplots(num_rows, 3, figsize=(15, 5 * num_rows))\n",
    "\n",
    "    # Flatten the axes array to iterate over each subplot\n",
    "    axes = axes.flatten()\n",
    "\n",
    "    # Plot boxplots for each numeric column\n",
    "    for i, col in enumerate(df_numeric.columns):\n",
    "        axes[i].boxplot(df_numeric[col].dropna(), vert=True)  # Drop NaN values for plotting\n",
    "        axes[i].set_title(f'Boxplot of {col.capitalize()}')\n",
    "        axes[i].set_ylabel('')  # Remove y-label for cleaner presentation\n",
    "\n",
    "    # Hide any unused subplots\n",
    "    for j in range(i + 1, len(axes)):\n",
    "        fig.delaxes(axes[j])\n",
    "\n",
    "    plt.tight_layout()\n",
    "    plt.show()\n",
    "\n",
    "plot_numeric_boxplots(df)"
   ]
  },
  {
   "cell_type": "markdown",
   "metadata": {},
   "source": [
    "<font color=red size=6> Cleaning </font>  <font size=6> Boxplots </font>"
   ]
  },
  {
   "cell_type": "markdown",
   "metadata": {},
   "source": [
    "* to research"
   ]
  },
  {
   "cell_type": "code",
   "execution_count": 99,
   "metadata": {},
   "outputs": [],
   "source": [
    "# Function to remove outliers based on IQR\n",
    "def remove_outliers(df):\n",
    "    cleaned_data = pd.DataFrame()\n",
    "    for col in df.columns:\n",
    "        if df[col].dtype in ['int64', 'float64']:  # Checking numerical columns\n",
    "            Q1 = df[col].quantile(0.25)\n",
    "            Q3 = df[col].quantile(0.75)\n",
    "            IQR = Q3 - Q1\n",
    "            lower_bound = Q1 - 1.5 * IQR\n",
    "            upper_bound = Q3 + 1.5 * IQR\n",
    "            cleaned_data[col] = df[(df[col] >= lower_bound) & (df[col] <= upper_bound)][col]\n",
    "        else:\n",
    "            cleaned_data[col] = df[col]  # Non-numeric columns remain unchanged\n",
    "    return cleaned_data\n",
    "# Applying outlier removal function to the entire dataset\n",
    "df = remove_outliers(df)"
   ]
  },
  {
   "cell_type": "code",
   "execution_count": 118,
   "metadata": {},
   "outputs": [
    {
     "data": {
      "text/plain": [
       "longitude             17434\n",
       "latitude              17434\n",
       "housing_median_age    17434\n",
       "total_rooms           17434\n",
       "total_bedrooms        17434\n",
       "population            17434\n",
       "households            17434\n",
       "median_income         17434\n",
       "median_house_value    17434\n",
       "ocean_proximity       17434\n",
       "dtype: int64"
      ]
     },
     "execution_count": 118,
     "metadata": {},
     "output_type": "execute_result"
    }
   ],
   "source": [
    "df.count()"
   ]
  },
  {
   "cell_type": "code",
   "execution_count": null,
   "metadata": {},
   "outputs": [],
   "source": [
    "df = df.dropna(subset=['households'])"
   ]
  },
  {
   "cell_type": "code",
   "execution_count": 120,
   "metadata": {},
   "outputs": [
    {
     "data": {
      "text/plain": [
       "longitude             17434\n",
       "latitude              17434\n",
       "housing_median_age    17434\n",
       "total_rooms           17434\n",
       "total_bedrooms        17434\n",
       "population            17434\n",
       "households            17434\n",
       "median_income         17434\n",
       "median_house_value    17434\n",
       "ocean_proximity       17434\n",
       "dtype: int64"
      ]
     },
     "execution_count": 120,
     "metadata": {},
     "output_type": "execute_result"
    }
   ],
   "source": [
    "df.count() #rinse and repeat"
   ]
  },
  {
   "cell_type": "markdown",
   "metadata": {},
   "source": [
    "<font color=red size=6> TO DO: </font>  \n",
    "<font size=3>\n",
    "* After outliers, many NAN's \n",
    "* NU manual meerdere rows met NA's gedropt tot same value op df.count. MAAK FUNCTION\n",
    "\n",
    "</font>"
   ]
  },
  {
   "cell_type": "code",
   "execution_count": null,
   "metadata": {},
   "outputs": [],
   "source": []
  },
  {
   "cell_type": "markdown",
   "metadata": {},
   "source": [
    "\n",
    "<center> <font size=11> CH4. LABEL ENCODING </font> </center>"
   ]
  },
  {
   "cell_type": "markdown",
   "metadata": {},
   "source": []
  }
 ],
 "metadata": {
  "kernelspec": {
   "display_name": "venv",
   "language": "python",
   "name": "python3"
  },
  "language_info": {
   "codemirror_mode": {
    "name": "ipython",
    "version": 3
   },
   "file_extension": ".py",
   "mimetype": "text/x-python",
   "name": "python",
   "nbconvert_exporter": "python",
   "pygments_lexer": "ipython3",
   "version": "3.10.6"
  }
 },
 "nbformat": 4,
 "nbformat_minor": 2
}
